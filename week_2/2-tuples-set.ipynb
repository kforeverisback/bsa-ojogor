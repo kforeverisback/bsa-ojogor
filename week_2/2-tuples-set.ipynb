{
 "cells": [
  {
   "cell_type": "markdown",
   "metadata": {},
   "source": [
    "# Week 2 - Tuples and Set"
   ]
  },
  {
   "cell_type": "markdown",
   "metadata": {},
   "source": [
    "## Tuples"
   ]
  },
  {
   "cell_type": "markdown",
   "metadata": {},
   "source": [
    "A tuple is a collection which is ordered and unchangeable (immutable).\n",
    "\n",
    "In Python **tuples are written with round brackets.**\n",
    "\n",
    "The Tuples have following properties:\n",
    "- You cannot change values in a tuple.\n",
    "- You cannot remove items in a tuple.\n"
   ]
  },
  {
   "cell_type": "code",
   "execution_count": null,
   "metadata": {},
   "outputs": [],
   "source": [
    "# Creataing tuples\n",
    "car_tuple = (\"nissan\", \"toyota\", \"acura\", \"honda\")\n",
    "\n",
    "print(f'car_tuple is of type: {type(car_tuple)}')\n",
    "\n",
    "# We can create tuples without the first bracket\n",
    "car_tuple_without_bracket = \"gmc\", \"ford\", \"maserati\", \"bmw\"\n",
    "print(f'car_tuple_without_bracket is of type: {type(car_tuple_without_bracket)}')\n",
    "\n",
    "# Length of a tuple\n",
    "print('Length:', len(car_tuple))\n",
    "# Accessing tuples: They are accessed using same index notaions as lists\n",
    "print(car_tuple[0]) # Will print 'nissan'\n",
    "print(car_tuple[3]) # Will print 'honda'"
   ]
  },
  {
   "cell_type": "code",
   "execution_count": null,
   "metadata": {},
   "outputs": [],
   "source": [
    "# We can nest tuples inside a tuple\n",
    "\n",
    "nested_tuple = car_tuple, (1, 2, 3), car_tuple_without_bracket\n",
    "print('nested_tuple:',nested_tuple)\n",
    "\n",
    "# Access nested tuple with the same notation as multi-dimensional jagged list\n",
    "\n",
    "print(nested_tuple[0][1]) # Will print toyota\n",
    "\n",
    "# Check if an element is in tuple\n",
    "\n",
    "if 'mazda' in car_tuple:\n",
    "    print('Zoom Zoom Zooom')\n",
    "else:\n",
    "    print('Bhrooom')"
   ]
  },
  {
   "cell_type": "markdown",
   "metadata": {},
   "source": [
    "## Set"
   ]
  },
  {
   "cell_type": "markdown",
   "metadata": {},
   "source": [
    "A set is an unordered and unindexed type of collection. Meaning you can't acces set with index\n",
    "\n",
    "In Python **sets are written with curly brackets**.`"
   ]
  },
  {
   "cell_type": "code",
   "execution_count": null,
   "metadata": {},
   "outputs": [],
   "source": [
    "vegetable_set = {\"potol\", \"alu\", \"vendi\", \"kumra\"}"
   ]
  },
  {
   "cell_type": "code",
   "execution_count": null,
   "metadata": {},
   "outputs": [],
   "source": [
    "# It is also possible to use the set() constructor to make a set.\n",
    "# Note the double round-brackets\n",
    "fruits_set_via_constructor = set((\"apple\", \"banana\", \"cherry\"))"
   ]
  },
  {
   "cell_type": "code",
   "execution_count": null,
   "metadata": {},
   "outputs": [],
   "source": [
    "# Length of Set using universal len() method\n",
    "print('Length:', len(vegetable_set))\n",
    "\n",
    "# You can't access set with index, uncomment this line to see the error\n",
    "# print(vegetable_set[1])\n",
    "\n",
    "for i in vegetable_set:\n",
    "    print(i)"
   ]
  },
  {
   "cell_type": "code",
   "execution_count": null,
   "metadata": {},
   "outputs": [],
   "source": [
    "# Check if an element is present in set\n",
    "\n",
    "if 'gajor' in vegetable_set:\n",
    "    print('Lots of Vitamin A')\n",
    "else:\n",
    "    print('We will all be kana :(')"
   ]
  }
 ],
 "metadata": {
  "kernelspec": {
   "display_name": "Python 3",
   "language": "python",
   "name": "python3"
  },
  "language_info": {
   "codemirror_mode": {
    "name": "ipython",
    "version": 3
   },
   "file_extension": ".py",
   "mimetype": "text/x-python",
   "name": "python",
   "nbconvert_exporter": "python",
   "pygments_lexer": "ipython3",
   "version": "3.8.5"
  }
 },
 "nbformat": 4,
 "nbformat_minor": 4
}
