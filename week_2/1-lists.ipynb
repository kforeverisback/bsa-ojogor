{
 "cells": [
  {
   "cell_type": "markdown",
   "metadata": {},
   "source": [
    "# Week 2 - Quick Intro to List"
   ]
  },
  {
   "cell_type": "markdown",
   "metadata": {},
   "source": [
    "## Lists"
   ]
  },
  {
   "cell_type": "markdown",
   "metadata": {},
   "source": [
    "List is the most useful and basic data type in Python. They are similar to traditional arrays (don't confuse them with Python array, which is a different collection).\n",
    "\n",
    "They can contain any type of variables, and they can contain as many types of variables as you wish.\n",
    "\n",
    "They are mutable and slicable in Python. Slicing is a very flexible feature in Python to get a subset of data easily. Lists can also be iterated over in a very simple manner.\n",
    "\n",
    "Here is an example of how to build a list."
   ]
  },
  {
   "cell_type": "code",
   "execution_count": null,
   "metadata": {},
   "outputs": [],
   "source": [
    "squares = [1, 4, 9, 16, 25]"
   ]
  },
  {
   "cell_type": "markdown",
   "metadata": {},
   "source": [
    "Check the type of squares variable"
   ]
  },
  {
   "cell_type": "code",
   "execution_count": null,
   "metadata": {},
   "outputs": [],
   "source": [
    "type(squares)"
   ]
  },
  {
   "cell_type": "markdown",
   "metadata": {},
   "source": [
    "### List Basics"
   ]
  },
  {
   "cell_type": "markdown",
   "metadata": {},
   "source": [
    "Like all other built-in sequence type(e.g. sets, strings), lists can be indexed and sliced.\n",
    "\n",
    "In addition to basic Zero based index, Python supports negative index. -1 represents the last item, -2 represents the 2nd last item and so on."
   ]
  },
  {
   "cell_type": "code",
   "execution_count": null,
   "metadata": {},
   "outputs": [],
   "source": [
    "squares[0]  # indexing returns the item (1)"
   ]
  },
  {
   "cell_type": "code",
   "execution_count": null,
   "metadata": {},
   "outputs": [],
   "source": [
    "squares[0] == 1  # Checking if the first item is 1"
   ]
  },
  {
   "cell_type": "code",
   "execution_count": null,
   "metadata": {},
   "outputs": [],
   "source": [
    "squares[-1] # Get the last item (25)"
   ]
  },
  {
   "cell_type": "code",
   "execution_count": null,
   "metadata": {},
   "outputs": [],
   "source": [
    "squares[-2] # Get the 2nd last item (16)"
   ]
  },
  {
   "cell_type": "markdown",
   "metadata": {},
   "source": [
    "Python Slicing notation, `list[start:end:step]`.\n",
    "\n",
    "You can omit any of `start`,`step`,`end` param in slice notation.\n",
    "\n",
    "*Important thing to note* is the `end` index is exclusive.\n",
    "\n",
    "**REMEMBER** slicing returns a new list, changing that new list won't change the old one"
   ]
  },
  {
   "cell_type": "code",
   "execution_count": null,
   "metadata": {},
   "outputs": [],
   "source": [
    "squares[1:3] # since end index is excluded it will return [4,9]"
   ]
  },
  {
   "cell_type": "code",
   "execution_count": null,
   "metadata": {},
   "outputs": [],
   "source": [
    "squares[-3:] # index -3(index 2) to end(index 4, not inclusive), will print [9, 16, 25]"
   ]
  },
  {
   "cell_type": "code",
   "execution_count": null,
   "metadata": {},
   "outputs": [],
   "source": [
    "squares[1:-2] # index 1 to -2 (index 3, not inclusive), returns 4,9"
   ]
  },
  {
   "cell_type": "code",
   "execution_count": null,
   "metadata": {},
   "outputs": [],
   "source": [
    "squares[:] # Returns all. This operation return a new list containing the requested elements."
   ]
  },
  {
   "cell_type": "code",
   "execution_count": null,
   "metadata": {},
   "outputs": [],
   "source": [
    "squares[::2] # get every 2nd item [1,9,25]"
   ]
  },
  {
   "cell_type": "code",
   "execution_count": null,
   "metadata": {},
   "outputs": [],
   "source": [
    "squares[::-1] # Example of negative step"
   ]
  },
  {
   "cell_type": "markdown",
   "metadata": {},
   "source": [
    "Go Crazy experimenting different slicing"
   ]
  },
  {
   "cell_type": "markdown",
   "metadata": {},
   "source": [
    "Since slicing returns a new list, any changes to the new list won't reflect back to old one."
   ]
  },
  {
   "cell_type": "code",
   "execution_count": null,
   "metadata": {},
   "outputs": [],
   "source": [
    "new_sq = squares[:] # This operation return a new list containing the requested elements.\n",
    "new_sq[0] = -1      # Change the new variable containing the copied `squares`\n",
    "\n",
    "print(f'Orig Square: {squares}, New Square:{new_sq}') # f-style string format in Python3\n",
    "squares[0] == new_sq[0]"
   ]
  },
  {
   "cell_type": "markdown",
   "metadata": {},
   "source": [
    "### List Operations and Methods"
   ]
  },
  {
   "cell_type": "markdown",
   "metadata": {},
   "source": [
    "Concatenate two lists with `+` operator. It will return a new list"
   ]
  },
  {
   "cell_type": "code",
   "execution_count": null,
   "metadata": {},
   "outputs": [],
   "source": [
    "print(f'Concatenated: {squares + [36, 49, 64]}') # Will print concatenated version\n",
    "print(squares) # Original `squares` var is not changed\n",
    "# Save the concatenated list into a varaible\n",
    "concat = squares + [36, 49, 64]\n",
    "print(concat)"
   ]
  },
  {
   "cell_type": "markdown",
   "metadata": {},
   "source": [
    "Append **One** item to the end of a list using .append() method"
   ]
  },
  {
   "cell_type": "code",
   "execution_count": null,
   "metadata": {},
   "outputs": [],
   "source": [
    "print(f'Squares then: {squares}')\n",
    "squares.append(36) # Appending to the same squares list\n",
    "print(f'Squares  now: {squares}') # Our squares now contains 36"
   ]
  },
  {
   "cell_type": "markdown",
   "metadata": {},
   "source": [
    "You can put Python's `in` operator to check if a value is present in a list"
   ]
  },
  {
   "cell_type": "code",
   "execution_count": null,
   "metadata": {},
   "outputs": [],
   "source": [
    "49 in squares"
   ]
  },
  {
   "cell_type": "code",
   "execution_count": null,
   "metadata": {},
   "outputs": [],
   "source": [
    "25 in squares"
   ]
  },
  {
   "cell_type": "code",
   "execution_count": null,
   "metadata": {},
   "outputs": [],
   "source": [
    "# Use this in a if condition\n",
    "if 25 in squares:\n",
    "    print('Yay 25!!')"
   ]
  },
  {
   "cell_type": "markdown",
   "metadata": {},
   "source": [
    "Other operations"
   ]
  },
  {
   "cell_type": "code",
   "execution_count": null,
   "metadata": {},
   "outputs": [],
   "source": [
    "print(squares.count(36))  # Count number of 36 in the list\n",
    "\n",
    "squares.insert(1,2)       # Insert value 2 at index 1\n",
    "print(f'After Inserting 2 at index 1:{squares}')\n",
    "\n",
    "print(squares.index(25))  # Find index of value 25\n",
    "# squares.remove(36)       # Find 36 in list and remove the first occurrence\n",
    "\n",
    "# Reverse the elements of squares in-place\n",
    "print(f'Squares before reverse: {squares}')\n",
    "squares.reverse()\n",
    "print(f'Squares after  reverse: {squares}')\n",
    "\n",
    "# Sort elements in place with .sort(key=None, reverse=False)\n",
    "squares.sort() # Sort in ascending order (smallest to largest)\n",
    "print(f'Squares after  sorting: {squares}')\n",
    "\n",
    "squares.sort(reverse=True) # It have the same effect as squares.reverse()\n",
    "print(f'Squares after  reverse sorting: {squares}')"
   ]
  },
  {
   "cell_type": "markdown",
   "metadata": {},
   "source": [
    "Delete an item from a list"
   ]
  },
  {
   "cell_type": "code",
   "execution_count": null,
   "metadata": {},
   "outputs": [],
   "source": [
    "squares.pop(3) # Remove the 3rd item Using .pop(index)\n",
    "del(squares[2]) # Remove the 2nd item using universal `del` function\n",
    "print(f'Squares  now: {squares}')"
   ]
  },
  {
   "cell_type": "markdown",
   "metadata": {},
   "source": [
    "You can also use Slices to delete multiple items from the list"
   ]
  },
  {
   "cell_type": "code",
   "execution_count": null,
   "metadata": {},
   "outputs": [],
   "source": [
    "del(squares[1:3]) # Remove index 1-3 (3 excluded) from squares\n",
    "print(f'Squares  now: {squares}')\n",
    "\n",
    "# Remove all items from the list\n",
    "squares.clear()\n",
    "squares"
   ]
  },
  {
   "cell_type": "markdown",
   "metadata": {},
   "source": [
    "### Nested Lists (or multidimentional lists)"
   ]
  },
  {
   "cell_type": "markdown",
   "metadata": {},
   "source": [
    "Nested list is simply a list containing other lists. As mentioned, a list can container different types of data, so a list inside a list would fall in that category."
   ]
  },
  {
   "cell_type": "code",
   "execution_count": null,
   "metadata": {},
   "outputs": [],
   "source": [
    "cubes = [1, 8, 27, 64, 125]\n",
    "fibonacci = [0, 1, 1, 2, 3, 5, 8, 13, 21]\n",
    "\n",
    "# N-D Jagged list\n",
    "nested = [cubes, fibonacci]\n",
    "print(nested)\n",
    "\n",
    "# Access N-D list\n",
    "print(nested[0][3]) # nested[0] is first list (cubes), then nested[0][3], 4th item in the first list\n",
    "\n",
    "print(nested[1][6]) # 7th item in the second list"
   ]
  },
  {
   "cell_type": "markdown",
   "metadata": {},
   "source": [
    "### List Comprehension\n"
   ]
  },
  {
   "cell_type": "markdown",
   "metadata": {},
   "source": [
    "It's a shorthand form of for/while loop to create list/set/tuples/dictionary."
   ]
  },
  {
   "cell_type": "code",
   "execution_count": null,
   "metadata": {},
   "outputs": [],
   "source": [
    "# For example, assume we want to create a list of fibonacci, like:\n",
    "cubes = []\n",
    "for number in range(10):\n",
    "    cubes.append(number**3)\n",
    "print(f'cubes: {cubes}')\n",
    "\n",
    "# We can create the same list with comprehension format, which is more consise, compact and arguably readable\n",
    "cubes_comp = [n**3 for n in range(10) ]\n",
    "\n",
    "print(f'cubes_comp: {cubes_comp}')"
   ]
  },
  {
   "cell_type": "code",
   "execution_count": null,
   "metadata": {},
   "outputs": [],
   "source": [
    "# If we have a list of items we want to find square of\n",
    "numbers = [1, 7, 22, 71, 64, 36, 14]\n",
    "\n",
    "# Using a for loop\n",
    "number_for_loop_sq = []\n",
    "for n in numbers:\n",
    "    number_for_loop_sq.append(n**2)\n",
    "    \n",
    "print(f'Square of Number with for-loop : {number_for_loop_sq}')\n",
    "\n",
    "number_comp_sq = [n**2 for n in numbers]\n",
    "print(f'Sq of Number with comprehension: {number_comp_sq}')\n"
   ]
  }
 ],
 "metadata": {
  "kernelspec": {
   "display_name": "Python 3",
   "language": "python",
   "name": "python3"
  },
  "language_info": {
   "codemirror_mode": {
    "name": "ipython",
    "version": 3
   },
   "file_extension": ".py",
   "mimetype": "text/x-python",
   "name": "python",
   "nbconvert_exporter": "python",
   "pygments_lexer": "ipython3",
   "version": "3.8.5"
  }
 },
 "nbformat": 4,
 "nbformat_minor": 4
}
